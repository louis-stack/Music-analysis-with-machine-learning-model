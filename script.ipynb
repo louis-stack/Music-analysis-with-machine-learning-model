{
 "cells": [
  {
   "attachments": {},
   "cell_type": "markdown",
   "metadata": {},
   "source": [
    "Packages importation"
   ]
  },
  {
   "cell_type": "code",
   "execution_count": 73,
   "metadata": {},
   "outputs": [],
   "source": [
    "import pandas as pd\n",
    "import numpy as np\n",
    "import matplotlib.pyplot as plt\n",
    "import seaborn as sns\n",
    "import sklearn.metrics as skm\n",
    "import sklearn.model_selection as skms\n",
    "import sklearn.preprocessing as skp\n",
    "import sklearn.ensemble as ske\n",
    "from sklearn.model_selection import cross_val_score\n"
   ]
  },
  {
   "cell_type": "code",
   "execution_count": 74,
   "metadata": {},
   "outputs": [
    {
     "name": "stdout",
     "output_type": "stream",
     "text": [
      "Dataset has (1000, 60)\n"
     ]
    },
    {
     "data": {
      "text/html": [
       "<div>\n",
       "<style scoped>\n",
       "    .dataframe tbody tr th:only-of-type {\n",
       "        vertical-align: middle;\n",
       "    }\n",
       "\n",
       "    .dataframe tbody tr th {\n",
       "        vertical-align: top;\n",
       "    }\n",
       "\n",
       "    .dataframe thead th {\n",
       "        text-align: right;\n",
       "    }\n",
       "</style>\n",
       "<table border=\"1\" class=\"dataframe\">\n",
       "  <thead>\n",
       "    <tr style=\"text-align: right;\">\n",
       "      <th></th>\n",
       "      <th>filename</th>\n",
       "      <th>length</th>\n",
       "      <th>chroma_stft_mean</th>\n",
       "      <th>chroma_stft_var</th>\n",
       "      <th>rms_mean</th>\n",
       "      <th>rms_var</th>\n",
       "      <th>spectral_centroid_mean</th>\n",
       "      <th>spectral_centroid_var</th>\n",
       "      <th>spectral_bandwidth_mean</th>\n",
       "      <th>spectral_bandwidth_var</th>\n",
       "      <th>...</th>\n",
       "      <th>mfcc16_var</th>\n",
       "      <th>mfcc17_mean</th>\n",
       "      <th>mfcc17_var</th>\n",
       "      <th>mfcc18_mean</th>\n",
       "      <th>mfcc18_var</th>\n",
       "      <th>mfcc19_mean</th>\n",
       "      <th>mfcc19_var</th>\n",
       "      <th>mfcc20_mean</th>\n",
       "      <th>mfcc20_var</th>\n",
       "      <th>label</th>\n",
       "    </tr>\n",
       "  </thead>\n",
       "  <tbody>\n",
       "    <tr>\n",
       "      <th>0</th>\n",
       "      <td>blues.00000.wav</td>\n",
       "      <td>661794</td>\n",
       "      <td>0.350088</td>\n",
       "      <td>0.088757</td>\n",
       "      <td>0.130228</td>\n",
       "      <td>0.002827</td>\n",
       "      <td>1784.165850</td>\n",
       "      <td>129774.064525</td>\n",
       "      <td>2002.449060</td>\n",
       "      <td>85882.761315</td>\n",
       "      <td>...</td>\n",
       "      <td>52.420910</td>\n",
       "      <td>-1.690215</td>\n",
       "      <td>36.524071</td>\n",
       "      <td>-0.408979</td>\n",
       "      <td>41.597103</td>\n",
       "      <td>-2.303523</td>\n",
       "      <td>55.062923</td>\n",
       "      <td>1.221291</td>\n",
       "      <td>46.936035</td>\n",
       "      <td>blues</td>\n",
       "    </tr>\n",
       "    <tr>\n",
       "      <th>1</th>\n",
       "      <td>blues.00001.wav</td>\n",
       "      <td>661794</td>\n",
       "      <td>0.340914</td>\n",
       "      <td>0.094980</td>\n",
       "      <td>0.095948</td>\n",
       "      <td>0.002373</td>\n",
       "      <td>1530.176679</td>\n",
       "      <td>375850.073649</td>\n",
       "      <td>2039.036516</td>\n",
       "      <td>213843.755497</td>\n",
       "      <td>...</td>\n",
       "      <td>55.356403</td>\n",
       "      <td>-0.731125</td>\n",
       "      <td>60.314529</td>\n",
       "      <td>0.295073</td>\n",
       "      <td>48.120598</td>\n",
       "      <td>-0.283518</td>\n",
       "      <td>51.106190</td>\n",
       "      <td>0.531217</td>\n",
       "      <td>45.786282</td>\n",
       "      <td>blues</td>\n",
       "    </tr>\n",
       "    <tr>\n",
       "      <th>2</th>\n",
       "      <td>blues.00002.wav</td>\n",
       "      <td>661794</td>\n",
       "      <td>0.363637</td>\n",
       "      <td>0.085275</td>\n",
       "      <td>0.175570</td>\n",
       "      <td>0.002746</td>\n",
       "      <td>1552.811865</td>\n",
       "      <td>156467.643368</td>\n",
       "      <td>1747.702312</td>\n",
       "      <td>76254.192257</td>\n",
       "      <td>...</td>\n",
       "      <td>40.598766</td>\n",
       "      <td>-7.729093</td>\n",
       "      <td>47.639427</td>\n",
       "      <td>-1.816407</td>\n",
       "      <td>52.382141</td>\n",
       "      <td>-3.439720</td>\n",
       "      <td>46.639660</td>\n",
       "      <td>-2.231258</td>\n",
       "      <td>30.573025</td>\n",
       "      <td>blues</td>\n",
       "    </tr>\n",
       "    <tr>\n",
       "      <th>3</th>\n",
       "      <td>blues.00003.wav</td>\n",
       "      <td>661794</td>\n",
       "      <td>0.404785</td>\n",
       "      <td>0.093999</td>\n",
       "      <td>0.141093</td>\n",
       "      <td>0.006346</td>\n",
       "      <td>1070.106615</td>\n",
       "      <td>184355.942417</td>\n",
       "      <td>1596.412872</td>\n",
       "      <td>166441.494769</td>\n",
       "      <td>...</td>\n",
       "      <td>44.427753</td>\n",
       "      <td>-3.319597</td>\n",
       "      <td>50.206673</td>\n",
       "      <td>0.636965</td>\n",
       "      <td>37.319130</td>\n",
       "      <td>-0.619121</td>\n",
       "      <td>37.259739</td>\n",
       "      <td>-3.407448</td>\n",
       "      <td>31.949339</td>\n",
       "      <td>blues</td>\n",
       "    </tr>\n",
       "    <tr>\n",
       "      <th>4</th>\n",
       "      <td>blues.00004.wav</td>\n",
       "      <td>661794</td>\n",
       "      <td>0.308526</td>\n",
       "      <td>0.087841</td>\n",
       "      <td>0.091529</td>\n",
       "      <td>0.002303</td>\n",
       "      <td>1835.004266</td>\n",
       "      <td>343399.939274</td>\n",
       "      <td>1748.172116</td>\n",
       "      <td>88445.209036</td>\n",
       "      <td>...</td>\n",
       "      <td>86.099236</td>\n",
       "      <td>-5.454034</td>\n",
       "      <td>75.269707</td>\n",
       "      <td>-0.916874</td>\n",
       "      <td>53.613918</td>\n",
       "      <td>-4.404827</td>\n",
       "      <td>62.910812</td>\n",
       "      <td>-11.703234</td>\n",
       "      <td>55.195160</td>\n",
       "      <td>blues</td>\n",
       "    </tr>\n",
       "  </tbody>\n",
       "</table>\n",
       "<p>5 rows × 60 columns</p>\n",
       "</div>"
      ],
      "text/plain": [
       "          filename  length  chroma_stft_mean  chroma_stft_var  rms_mean  \\\n",
       "0  blues.00000.wav  661794          0.350088         0.088757  0.130228   \n",
       "1  blues.00001.wav  661794          0.340914         0.094980  0.095948   \n",
       "2  blues.00002.wav  661794          0.363637         0.085275  0.175570   \n",
       "3  blues.00003.wav  661794          0.404785         0.093999  0.141093   \n",
       "4  blues.00004.wav  661794          0.308526         0.087841  0.091529   \n",
       "\n",
       "    rms_var  spectral_centroid_mean  spectral_centroid_var  \\\n",
       "0  0.002827             1784.165850          129774.064525   \n",
       "1  0.002373             1530.176679          375850.073649   \n",
       "2  0.002746             1552.811865          156467.643368   \n",
       "3  0.006346             1070.106615          184355.942417   \n",
       "4  0.002303             1835.004266          343399.939274   \n",
       "\n",
       "   spectral_bandwidth_mean  spectral_bandwidth_var  ...  mfcc16_var  \\\n",
       "0              2002.449060            85882.761315  ...   52.420910   \n",
       "1              2039.036516           213843.755497  ...   55.356403   \n",
       "2              1747.702312            76254.192257  ...   40.598766   \n",
       "3              1596.412872           166441.494769  ...   44.427753   \n",
       "4              1748.172116            88445.209036  ...   86.099236   \n",
       "\n",
       "   mfcc17_mean  mfcc17_var  mfcc18_mean  mfcc18_var  mfcc19_mean  mfcc19_var  \\\n",
       "0    -1.690215   36.524071    -0.408979   41.597103    -2.303523   55.062923   \n",
       "1    -0.731125   60.314529     0.295073   48.120598    -0.283518   51.106190   \n",
       "2    -7.729093   47.639427    -1.816407   52.382141    -3.439720   46.639660   \n",
       "3    -3.319597   50.206673     0.636965   37.319130    -0.619121   37.259739   \n",
       "4    -5.454034   75.269707    -0.916874   53.613918    -4.404827   62.910812   \n",
       "\n",
       "   mfcc20_mean  mfcc20_var  label  \n",
       "0     1.221291   46.936035  blues  \n",
       "1     0.531217   45.786282  blues  \n",
       "2    -2.231258   30.573025  blues  \n",
       "3    -3.407448   31.949339  blues  \n",
       "4   -11.703234   55.195160  blues  \n",
       "\n",
       "[5 rows x 60 columns]"
      ]
     },
     "execution_count": 74,
     "metadata": {},
     "output_type": "execute_result"
    }
   ],
   "source": [
    "path = \"data/features_30_sec.csv\"\n",
    "\n",
    "music_data = pd.read_csv(path)\n",
    "print(\"Dataset has\", music_data.shape)\n",
    "music_data.head()"
   ]
  },
  {
   "cell_type": "code",
   "execution_count": 75,
   "metadata": {},
   "outputs": [
    {
     "data": {
      "image/png": "[encoded data removed]",
      "text/plain": [
       "<Figure size 1152x792 with 2 Axes>"
      ]
     },
     "metadata": {
      "needs_background": "light"
     },
     "output_type": "display_data"
    }
   ],
   "source": [
    "# Computing the  Correlation Matrix using only the features that have 'mean' in their name.\n",
    "mean_cols = [col for col in music_data.columns if 'mean' in col]\n",
    "corr = music_data[mean_cols].corr()\n",
    "\n",
    "#the matplotlib figure\n",
    "f, ax = plt.subplots(figsize=(16, 11));\n",
    "sns.heatmap(corr, vmax=.3, center=0, square=True, linewidths=.5, cbar_kws={\"shrink\": .5})\n",
    "\n",
    "plt.title('Correlation Heatmap (MEAN variables)', fontsize = 20)\n",
    "plt.xticks(fontsize = 10)\n",
    "plt.yticks(fontsize = 10);\n",
    "plt.savefig(\"Corr_Heatmap.png\")"
   ]
  },
  {
   "attachments": {},
   "cell_type": "markdown",
   "metadata": {},
   "source": [
    "In the heat map, warm colors represent high values and cool values represent low values. Values in a correlation matrix range from -1 to 1. A value of one indicates a perfect positive correlation meaning as one value increases, the other also increases. A value of -1 indicates a perfect negative correlation meaning as one value increases, the other decreases. A value of 0 indicates no correlation between the variables."
   ]
  },
  {
   "cell_type": "code",
   "execution_count": 76,
   "metadata": {},
   "outputs": [
    {
     "data": {
      "image/png": "[encoded data removed]",
      "text/plain": [
       "<Figure size 1152x576 with 1 Axes>"
      ]
     },
     "metadata": {
      "needs_background": "light"
     },
     "output_type": "display_data"
    }
   ],
   "source": [
    "# A box plot to show the distribution of music pieces in different genres in different tempo/beats per minute values.\n",
    "x = music_data[[\"label\", \"tempo\"]]\n",
    "\n",
    "fig, ax = plt.subplots(figsize=(16, 8));\n",
    "sns.boxplot(x = \"label\", y = \"tempo\", data = x);\n",
    "\n",
    "plt.title('Beats Per Minute Boxplot for Genres', fontsize = 20)\n",
    "plt.xticks(fontsize = 14)\n",
    "plt.yticks(fontsize = 10);\n",
    "plt.xlabel(\"Genre\", fontsize = 15)\n",
    "plt.ylabel(\"BPM\", fontsize = 15)\n",
    "plt.savefig(\"BPM_Boxplot.png\")"
   ]
  },
  {
   "cell_type": "code",
   "execution_count": 77,
   "metadata": {},
   "outputs": [
    {
     "name": "stdout",
     "output_type": "stream",
     "text": [
      "Columns with null values are []\n"
     ]
    }
   ],
   "source": [
    "#Checking for null values in the data. \n",
    "print(\"Columns with null values are\",list(music_data.columns[music_data.isnull().any()]))\n",
    "#Since there are no null values in any of the columns, there is no need to create dummy values."
   ]
  },
  {
   "cell_type": "code",
   "execution_count": 78,
   "metadata": {},
   "outputs": [
    {
     "name": "stdout",
     "output_type": "stream",
     "text": [
      "{'blues': 0, 'classical': 1, 'country': 2, 'disco': 3, 'hiphop': 4, 'jazz': 5, 'metal': 6, 'pop': 7, 'reggae': 8, 'rock': 9}\n",
      "{0: 'blues', 1: 'classical', 2: 'country', 3: 'disco', 4: 'hiphop', 5: 'jazz', 6: 'metal', 7: 'pop', 8: 'reggae', 9: 'rock'}\n"
     ]
    }
   ],
   "source": [
    "# map labels to index\n",
    "label_index = dict()\n",
    "index_label = dict()\n",
    "for i, x in enumerate(music_data.label.unique()):\n",
    "    label_index[x] = i\n",
    "    index_label[i] = x\n",
    "print(label_index)\n",
    "print(index_label)"
   ]
  },
  {
   "cell_type": "code",
   "execution_count": 79,
   "metadata": {},
   "outputs": [],
   "source": [
    "# update labels in df to index\n",
    "music_data.label = [label_index[l] for l in music_data.label]"
   ]
  },
  {
   "cell_type": "code",
   "execution_count": 80,
   "metadata": {},
   "outputs": [
    {
     "name": "stdout",
     "output_type": "stream",
     "text": [
      "Train set has 700 records out of 1000 which is 70% of the data.\n",
      "Validation set has 198 records out of 1000 which is 20% of the data.\n",
      "Test set has 102 records out of 1000 which is 10% of the data.\n"
     ]
    }
   ],
   "source": [
    "#Splitting the data into training testing and validation sets\n",
    "data_shuffle = music_data.sample(frac=1, random_state=12).reset_index(drop=True) #shuffling the data\n",
    "# remove columns that have no impact on the prediction\n",
    "data_shuffle.drop(['filename', 'length'], axis=1, inplace=True)\n",
    "data_y = data_shuffle.pop('label')\n",
    "data_X = data_shuffle\n",
    "\n",
    "\n",
    "# split original dataset into train and test\n",
    "X_train, data_test_valid_X, y_train, data_test_valid_y = skms.train_test_split(data_X, data_y, train_size=0.7, random_state=12, stratify=data_y)\n",
    "#split test dataset into validation and test\n",
    "X_validation, X_test, y_validation, y_test = skms.train_test_split(data_test_valid_X, data_test_valid_y, train_size=0.66, random_state=12, stratify=data_test_valid_y)\n",
    "#stratify - all the sets will have an equal proportion of genres\n",
    "\n",
    "#Validating the data splits\n",
    "print(f\"Train set has {X_train.shape[0]} records out of {len(data_shuffle)} which is {round(X_train.shape[0]/len(data_shuffle)*100)}% of the data.\")\n",
    "print(f\"Validation set has {X_validation.shape[0]} records out of {len(data_shuffle)} which is {round(X_validation.shape[0]/len(data_shuffle)*100)}% of the data.\")\n",
    "print(f\"Test set has {X_test.shape[0]} records out of {len(data_shuffle)} which is {round(X_test.shape[0]/len(data_shuffle)*100)}% of the data.\")"
   ]
  },
  {
   "cell_type": "code",
   "execution_count": 81,
   "metadata": {},
   "outputs": [],
   "source": [
    "#scaling the features. This will ensure that features with larger values do not affect the prediction\n",
    "#disproportionately compared to the smaller values\n",
    "scaler = skp.StandardScaler()\n",
    "X_train = pd.DataFrame(scaler.fit_transform(X_train), columns=X_train.columns)\n",
    "X_validation = pd.DataFrame(scaler.transform(X_validation), columns=X_train.columns)\n",
    "X_test = pd.DataFrame(scaler.transform(X_test), columns=X_train.columns)"
   ]
  },
  {
   "cell_type": "code",
   "execution_count": 82,
   "metadata": {},
   "outputs": [
    {
     "data": {
      "text/html": [
       "<div>\n",
       "<style scoped>\n",
       "    .dataframe tbody tr th:only-of-type {\n",
       "        vertical-align: middle;\n",
       "    }\n",
       "\n",
       "    .dataframe tbody tr th {\n",
       "        vertical-align: top;\n",
       "    }\n",
       "\n",
       "    .dataframe thead th {\n",
       "        text-align: right;\n",
       "    }\n",
       "</style>\n",
       "<table border=\"1\" class=\"dataframe\">\n",
       "  <thead>\n",
       "    <tr style=\"text-align: right;\">\n",
       "      <th></th>\n",
       "      <th>chroma_stft_mean</th>\n",
       "      <th>chroma_stft_var</th>\n",
       "      <th>rms_mean</th>\n",
       "      <th>rms_var</th>\n",
       "      <th>spectral_centroid_mean</th>\n",
       "      <th>spectral_centroid_var</th>\n",
       "      <th>spectral_bandwidth_mean</th>\n",
       "      <th>spectral_bandwidth_var</th>\n",
       "      <th>rolloff_mean</th>\n",
       "      <th>rolloff_var</th>\n",
       "      <th>...</th>\n",
       "      <th>mfcc16_mean</th>\n",
       "      <th>mfcc16_var</th>\n",
       "      <th>mfcc17_mean</th>\n",
       "      <th>mfcc17_var</th>\n",
       "      <th>mfcc18_mean</th>\n",
       "      <th>mfcc18_var</th>\n",
       "      <th>mfcc19_mean</th>\n",
       "      <th>mfcc19_var</th>\n",
       "      <th>mfcc20_mean</th>\n",
       "      <th>mfcc20_var</th>\n",
       "    </tr>\n",
       "  </thead>\n",
       "  <tbody>\n",
       "    <tr>\n",
       "      <th>0</th>\n",
       "      <td>0.057247</td>\n",
       "      <td>-0.790500</td>\n",
       "      <td>0.342682</td>\n",
       "      <td>-0.514693</td>\n",
       "      <td>0.083436</td>\n",
       "      <td>-0.592513</td>\n",
       "      <td>-0.178699</td>\n",
       "      <td>-0.835022</td>\n",
       "      <td>0.016406</td>\n",
       "      <td>-0.635393</td>\n",
       "      <td>...</td>\n",
       "      <td>0.768181</td>\n",
       "      <td>-0.544900</td>\n",
       "      <td>-1.372360</td>\n",
       "      <td>-1.048256</td>\n",
       "      <td>0.276826</td>\n",
       "      <td>-0.949620</td>\n",
       "      <td>-0.146467</td>\n",
       "      <td>-0.923327</td>\n",
       "      <td>0.130373</td>\n",
       "      <td>-0.942447</td>\n",
       "    </tr>\n",
       "    <tr>\n",
       "      <th>1</th>\n",
       "      <td>-0.734659</td>\n",
       "      <td>-0.209415</td>\n",
       "      <td>0.770486</td>\n",
       "      <td>0.124682</td>\n",
       "      <td>-0.327375</td>\n",
       "      <td>-0.484939</td>\n",
       "      <td>-0.391665</td>\n",
       "      <td>-0.521084</td>\n",
       "      <td>-0.323645</td>\n",
       "      <td>-0.518111</td>\n",
       "      <td>...</td>\n",
       "      <td>0.634784</td>\n",
       "      <td>0.175229</td>\n",
       "      <td>-1.305191</td>\n",
       "      <td>0.214344</td>\n",
       "      <td>0.602786</td>\n",
       "      <td>-0.276234</td>\n",
       "      <td>-1.546473</td>\n",
       "      <td>-0.229145</td>\n",
       "      <td>-1.060775</td>\n",
       "      <td>-0.662192</td>\n",
       "    </tr>\n",
       "    <tr>\n",
       "      <th>2</th>\n",
       "      <td>1.752669</td>\n",
       "      <td>-2.038986</td>\n",
       "      <td>-0.276637</td>\n",
       "      <td>-0.612828</td>\n",
       "      <td>0.665096</td>\n",
       "      <td>-0.729102</td>\n",
       "      <td>0.134450</td>\n",
       "      <td>-1.085243</td>\n",
       "      <td>0.471748</td>\n",
       "      <td>-0.917944</td>\n",
       "      <td>...</td>\n",
       "      <td>1.516314</td>\n",
       "      <td>-0.606788</td>\n",
       "      <td>-0.782357</td>\n",
       "      <td>-1.167385</td>\n",
       "      <td>1.330279</td>\n",
       "      <td>-0.895360</td>\n",
       "      <td>-0.525507</td>\n",
       "      <td>-0.933720</td>\n",
       "      <td>1.079782</td>\n",
       "      <td>-0.934836</td>\n",
       "    </tr>\n",
       "    <tr>\n",
       "      <th>3</th>\n",
       "      <td>-0.155343</td>\n",
       "      <td>0.714559</td>\n",
       "      <td>0.888791</td>\n",
       "      <td>0.447331</td>\n",
       "      <td>0.119819</td>\n",
       "      <td>-0.229398</td>\n",
       "      <td>0.649484</td>\n",
       "      <td>0.142947</td>\n",
       "      <td>0.417062</td>\n",
       "      <td>0.103119</td>\n",
       "      <td>...</td>\n",
       "      <td>0.606047</td>\n",
       "      <td>-0.005242</td>\n",
       "      <td>0.817352</td>\n",
       "      <td>-0.270879</td>\n",
       "      <td>-0.046698</td>\n",
       "      <td>0.271937</td>\n",
       "      <td>1.137747</td>\n",
       "      <td>0.360000</td>\n",
       "      <td>0.721559</td>\n",
       "      <td>-0.430315</td>\n",
       "    </tr>\n",
       "    <tr>\n",
       "      <th>4</th>\n",
       "      <td>-1.295979</td>\n",
       "      <td>0.759244</td>\n",
       "      <td>-0.484529</td>\n",
       "      <td>-0.460918</td>\n",
       "      <td>-1.353810</td>\n",
       "      <td>-0.505271</td>\n",
       "      <td>-1.472509</td>\n",
       "      <td>0.047439</td>\n",
       "      <td>-1.351078</td>\n",
       "      <td>-0.405064</td>\n",
       "      <td>...</td>\n",
       "      <td>-2.314510</td>\n",
       "      <td>-0.105180</td>\n",
       "      <td>-0.114584</td>\n",
       "      <td>-0.087874</td>\n",
       "      <td>-1.576440</td>\n",
       "      <td>1.304544</td>\n",
       "      <td>0.348574</td>\n",
       "      <td>2.445483</td>\n",
       "      <td>0.007638</td>\n",
       "      <td>1.687644</td>\n",
       "    </tr>\n",
       "  </tbody>\n",
       "</table>\n",
       "<p>5 rows × 57 columns</p>\n",
       "</div>"
      ],
      "text/plain": [
       "   chroma_stft_mean  chroma_stft_var  rms_mean   rms_var  \\\n",
       "0          0.057247        -0.790500  0.342682 -0.514693   \n",
       "1         -0.734659        -0.209415  0.770486  0.124682   \n",
       "2          1.752669        -2.038986 -0.276637 -0.612828   \n",
       "3         -0.155343         0.714559  0.888791  0.447331   \n",
       "4         -1.295979         0.759244 -0.484529 -0.460918   \n",
       "\n",
       "   spectral_centroid_mean  spectral_centroid_var  spectral_bandwidth_mean  \\\n",
       "0                0.083436              -0.592513                -0.178699   \n",
       "1               -0.327375              -0.484939                -0.391665   \n",
       "2                0.665096              -0.729102                 0.134450   \n",
       "3                0.119819              -0.229398                 0.649484   \n",
       "4               -1.353810              -0.505271                -1.472509   \n",
       "\n",
       "   spectral_bandwidth_var  rolloff_mean  rolloff_var  ...  mfcc16_mean  \\\n",
       "0               -0.835022      0.016406    -0.635393  ...     0.768181   \n",
       "1               -0.521084     -0.323645    -0.518111  ...     0.634784   \n",
       "2               -1.085243      0.471748    -0.917944  ...     1.516314   \n",
       "3                0.142947      0.417062     0.103119  ...     0.606047   \n",
       "4                0.047439     -1.351078    -0.405064  ...    -2.314510   \n",
       "\n",
       "   mfcc16_var  mfcc17_mean  mfcc17_var  mfcc18_mean  mfcc18_var  mfcc19_mean  \\\n",
       "0   -0.544900    -1.372360   -1.048256     0.276826   -0.949620    -0.146467   \n",
       "1    0.175229    -1.305191    0.214344     0.602786   -0.276234    -1.546473   \n",
       "2   -0.606788    -0.782357   -1.167385     1.330279   -0.895360    -0.525507   \n",
       "3   -0.005242     0.817352   -0.270879    -0.046698    0.271937     1.137747   \n",
       "4   -0.105180    -0.114584   -0.087874    -1.576440    1.304544     0.348574   \n",
       "\n",
       "   mfcc19_var  mfcc20_mean  mfcc20_var  \n",
       "0   -0.923327     0.130373   -0.942447  \n",
       "1   -0.229145    -1.060775   -0.662192  \n",
       "2   -0.933720     1.079782   -0.934836  \n",
       "3    0.360000     0.721559   -0.430315  \n",
       "4    2.445483     0.007638    1.687644  \n",
       "\n",
       "[5 rows x 57 columns]"
      ]
     },
     "execution_count": 82,
     "metadata": {},
     "output_type": "execute_result"
    }
   ],
   "source": [
    "X_train[:5] # To show the changes in the values of the features."
   ]
  },
  {
   "attachments": {},
   "cell_type": "markdown",
   "metadata": {},
   "source": [
    "In the next cell, the results function has a model, data and a boolean as its parameters. It returns a confusion matrix and a classification report (accuracy, F1-score, precision and recall values) for the different genres. When validation is set to false, confusion matrix and the classification report for the training dataset and when validation is set to true, it uses the validation dataset to test the accuracy of the model."
   ]
  },
  {
   "cell_type": "code",
   "execution_count": 83,
   "metadata": {},
   "outputs": [],
   "source": [
    "def results(model, X, validation=False):\n",
    "    y_true = y_train\n",
    "    if validation:\n",
    "        X = X_validation[X.columns]\n",
    "        y_true = y_validation\n",
    "    y_prediction = model.predict(X)\n",
    "    confusion_matrix = skm.confusion_matrix(y_true, y_prediction)\n",
    "    cm_display = skm.ConfusionMatrixDisplay(confusion_matrix = confusion_matrix)\n",
    "    cm_display.plot()\n",
    "    plt.show()\n",
    "    print(skm.classification_report(y_true, y_prediction, digits=3))\n",
    "    print(skm.precision_recall_fscore_support(y_true, y_prediction, average=\"macro\"))\n",
    "    print(\"=====================================================\")"
   ]
  },
  {
   "cell_type": "code",
   "execution_count": 84,
   "metadata": {},
   "outputs": [
    {
     "data": {
      "image/png": "[encoded data removed]",
      "text/plain": [
       "<Figure size 432x288 with 2 Axes>"
      ]
     },
     "metadata": {
      "needs_background": "light"
     },
     "output_type": "display_data"
    },
    {
     "name": "stdout",
     "output_type": "stream",
     "text": [
      "              precision    recall  f1-score   support\n",
      "\n",
      "           0      0.890     0.929     0.909        70\n",
      "           1      0.986     1.000     0.993        70\n",
      "           2      0.879     0.829     0.853        70\n",
      "           3      0.855     0.843     0.849        70\n",
      "           4      0.857     0.857     0.857        70\n",
      "           5      1.000     0.971     0.986        70\n",
      "           6      0.933     1.000     0.966        70\n",
      "           7      0.985     0.957     0.971        70\n",
      "           8      0.829     0.829     0.829        70\n",
      "           9      0.843     0.843     0.843        70\n",
      "\n",
      "    accuracy                          0.906       700\n",
      "   macro avg      0.906     0.906     0.905       700\n",
      "weighted avg      0.906     0.906     0.905       700\n",
      "\n",
      "(0.9057385673969673, 0.9057142857142859, 0.9054471159370465, None)\n",
      "=====================================================\n"
     ]
    },
    {
     "data": {
      "image/png": "[encoded data removed]",
      "text/plain": [
       "<Figure size 432x288 with 2 Axes>"
      ]
     },
     "metadata": {
      "needs_background": "light"
     },
     "output_type": "display_data"
    },
    {
     "name": "stdout",
     "output_type": "stream",
     "text": [
      "              precision    recall  f1-score   support\n",
      "\n",
      "           0      0.800     0.800     0.800        20\n",
      "           1      0.941     0.842     0.889        19\n",
      "           2      0.700     0.700     0.700        20\n",
      "           3      0.625     0.750     0.682        20\n",
      "           4      0.667     0.700     0.683        20\n",
      "           5      0.857     0.900     0.878        20\n",
      "           6      0.810     0.895     0.850        19\n",
      "           7      0.875     0.700     0.778        20\n",
      "           8      0.682     0.750     0.714        20\n",
      "           9      0.688     0.550     0.611        20\n",
      "\n",
      "    accuracy                          0.758       198\n",
      "   macro avg      0.764     0.759     0.758       198\n",
      "weighted avg      0.763     0.758     0.757       198\n",
      "\n",
      "(0.7643827985739751, 0.7586842105263158, 0.7584857283637773, None)\n",
      "=====================================================\n"
     ]
    }
   ],
   "source": [
    "#Feature importance using logistic regression\n",
    "from sklearn.linear_model import LogisticRegression\n",
    "lr = LogisticRegression(max_iter=400)\n",
    "lr.fit(X_train, y_train)\n",
    "results(lr, X_train)\n",
    "results(lr, X_train, validation=True)"
   ]
  },
  {
   "cell_type": "code",
   "execution_count": 92,
   "metadata": {},
   "outputs": [
    {
     "ename": "ValueError",
     "evalue": "The feature names should match those that were passed during fit.\nFeature names unseen at fit time:\n- filename\n- label\n- length\n",
     "output_type": "error",
     "traceback": [
      "\u001b[1;31m---------------------------------------------------------------------------\u001b[0m",
      "\u001b[1;31mValueError\u001b[0m                                Traceback (most recent call last)",
      "\u001b[1;32mc:\\Users\\louis\\OneDrive\\Bureau\\Music_analysis\\script.ipynb Cellule 16\u001b[0m in \u001b[0;36m<cell line: 2>\u001b[1;34m()\u001b[0m\n\u001b[0;32m      <a href='vscode-notebook-cell:/c%3A/Users/louis/OneDrive/Bureau/Music_analysis/script.ipynb#X56sZmlsZQ%3D%3D?line=0'>1</a>\u001b[0m test \u001b[39m=\u001b[39m music_data\u001b[39m.\u001b[39miloc[[\u001b[39m0\u001b[39m]]\n\u001b[1;32m----> <a href='vscode-notebook-cell:/c%3A/Users/louis/OneDrive/Bureau/Music_analysis/script.ipynb#X56sZmlsZQ%3D%3D?line=1'>2</a>\u001b[0m \u001b[39mprint\u001b[39m(lr\u001b[39m.\u001b[39;49mpredict(test))\n",
      "File \u001b[1;32m~\\AppData\\Local\\Packages\\PythonSoftwareFoundation.Python.3.10_qbz5n2kfra8p0\\LocalCache\\local-packages\\Python310\\site-packages\\sklearn\\linear_model\\_base.py:419\u001b[0m, in \u001b[0;36mLinearClassifierMixin.predict\u001b[1;34m(self, X)\u001b[0m\n\u001b[0;32m    405\u001b[0m \u001b[39m\"\"\"\u001b[39;00m\n\u001b[0;32m    406\u001b[0m \u001b[39mPredict class labels for samples in X.\u001b[39;00m\n\u001b[0;32m    407\u001b[0m \n\u001b[1;32m   (...)\u001b[0m\n\u001b[0;32m    416\u001b[0m \u001b[39m    Vector containing the class labels for each sample.\u001b[39;00m\n\u001b[0;32m    417\u001b[0m \u001b[39m\"\"\"\u001b[39;00m\n\u001b[0;32m    418\u001b[0m xp, _ \u001b[39m=\u001b[39m get_namespace(X)\n\u001b[1;32m--> 419\u001b[0m scores \u001b[39m=\u001b[39m \u001b[39mself\u001b[39;49m\u001b[39m.\u001b[39;49mdecision_function(X)\n\u001b[0;32m    420\u001b[0m \u001b[39mif\u001b[39;00m \u001b[39mlen\u001b[39m(scores\u001b[39m.\u001b[39mshape) \u001b[39m==\u001b[39m \u001b[39m1\u001b[39m:\n\u001b[0;32m    421\u001b[0m     indices \u001b[39m=\u001b[39m xp\u001b[39m.\u001b[39mastype(scores \u001b[39m>\u001b[39m \u001b[39m0\u001b[39m, \u001b[39mint\u001b[39m)\n",
      "File \u001b[1;32m~\\AppData\\Local\\Packages\\PythonSoftwareFoundation.Python.3.10_qbz5n2kfra8p0\\LocalCache\\local-packages\\Python310\\site-packages\\sklearn\\linear_model\\_base.py:400\u001b[0m, in \u001b[0;36mLinearClassifierMixin.decision_function\u001b[1;34m(self, X)\u001b[0m\n\u001b[0;32m    397\u001b[0m check_is_fitted(\u001b[39mself\u001b[39m)\n\u001b[0;32m    398\u001b[0m xp, _ \u001b[39m=\u001b[39m get_namespace(X)\n\u001b[1;32m--> 400\u001b[0m X \u001b[39m=\u001b[39m \u001b[39mself\u001b[39;49m\u001b[39m.\u001b[39;49m_validate_data(X, accept_sparse\u001b[39m=\u001b[39;49m\u001b[39m\"\u001b[39;49m\u001b[39mcsr\u001b[39;49m\u001b[39m\"\u001b[39;49m, reset\u001b[39m=\u001b[39;49m\u001b[39mFalse\u001b[39;49;00m)\n\u001b[0;32m    401\u001b[0m scores \u001b[39m=\u001b[39m safe_sparse_dot(X, \u001b[39mself\u001b[39m\u001b[39m.\u001b[39mcoef_\u001b[39m.\u001b[39mT, dense_output\u001b[39m=\u001b[39m\u001b[39mTrue\u001b[39;00m) \u001b[39m+\u001b[39m \u001b[39mself\u001b[39m\u001b[39m.\u001b[39mintercept_\n\u001b[0;32m    402\u001b[0m \u001b[39mreturn\u001b[39;00m xp\u001b[39m.\u001b[39mreshape(scores, \u001b[39m-\u001b[39m\u001b[39m1\u001b[39m) \u001b[39mif\u001b[39;00m scores\u001b[39m.\u001b[39mshape[\u001b[39m1\u001b[39m] \u001b[39m==\u001b[39m \u001b[39m1\u001b[39m \u001b[39melse\u001b[39;00m scores\n",
      "File \u001b[1;32m~\\AppData\\Local\\Packages\\PythonSoftwareFoundation.Python.3.10_qbz5n2kfra8p0\\LocalCache\\local-packages\\Python310\\site-packages\\sklearn\\base.py:529\u001b[0m, in \u001b[0;36mBaseEstimator._validate_data\u001b[1;34m(self, X, y, reset, validate_separately, **check_params)\u001b[0m\n\u001b[0;32m    464\u001b[0m \u001b[39mdef\u001b[39;00m \u001b[39m_validate_data\u001b[39m(\n\u001b[0;32m    465\u001b[0m     \u001b[39mself\u001b[39m,\n\u001b[0;32m    466\u001b[0m     X\u001b[39m=\u001b[39m\u001b[39m\"\u001b[39m\u001b[39mno_validation\u001b[39m\u001b[39m\"\u001b[39m,\n\u001b[1;32m   (...)\u001b[0m\n\u001b[0;32m    470\u001b[0m     \u001b[39m*\u001b[39m\u001b[39m*\u001b[39mcheck_params,\n\u001b[0;32m    471\u001b[0m ):\n\u001b[0;32m    472\u001b[0m     \u001b[39m\"\"\"Validate input data and set or check the `n_features_in_` attribute.\u001b[39;00m\n\u001b[0;32m    473\u001b[0m \n\u001b[0;32m    474\u001b[0m \u001b[39m    Parameters\u001b[39;00m\n\u001b[1;32m   (...)\u001b[0m\n\u001b[0;32m    527\u001b[0m \u001b[39m        validated.\u001b[39;00m\n\u001b[0;32m    528\u001b[0m \u001b[39m    \"\"\"\u001b[39;00m\n\u001b[1;32m--> 529\u001b[0m     \u001b[39mself\u001b[39;49m\u001b[39m.\u001b[39;49m_check_feature_names(X, reset\u001b[39m=\u001b[39;49mreset)\n\u001b[0;32m    531\u001b[0m     \u001b[39mif\u001b[39;00m y \u001b[39mis\u001b[39;00m \u001b[39mNone\u001b[39;00m \u001b[39mand\u001b[39;00m \u001b[39mself\u001b[39m\u001b[39m.\u001b[39m_get_tags()[\u001b[39m\"\u001b[39m\u001b[39mrequires_y\u001b[39m\u001b[39m\"\u001b[39m]:\n\u001b[0;32m    532\u001b[0m         \u001b[39mraise\u001b[39;00m \u001b[39mValueError\u001b[39;00m(\n\u001b[0;32m    533\u001b[0m             \u001b[39mf\u001b[39m\u001b[39m\"\u001b[39m\u001b[39mThis \u001b[39m\u001b[39m{\u001b[39;00m\u001b[39mself\u001b[39m\u001b[39m.\u001b[39m\u001b[39m__class__\u001b[39m\u001b[39m.\u001b[39m\u001b[39m__name__\u001b[39m\u001b[39m}\u001b[39;00m\u001b[39m estimator \u001b[39m\u001b[39m\"\u001b[39m\n\u001b[0;32m    534\u001b[0m             \u001b[39m\"\u001b[39m\u001b[39mrequires y to be passed, but the target y is None.\u001b[39m\u001b[39m\"\u001b[39m\n\u001b[0;32m    535\u001b[0m         )\n",
      "File \u001b[1;32m~\\AppData\\Local\\Packages\\PythonSoftwareFoundation.Python.3.10_qbz5n2kfra8p0\\LocalCache\\local-packages\\Python310\\site-packages\\sklearn\\base.py:462\u001b[0m, in \u001b[0;36mBaseEstimator._check_feature_names\u001b[1;34m(self, X, reset)\u001b[0m\n\u001b[0;32m    457\u001b[0m \u001b[39mif\u001b[39;00m \u001b[39mnot\u001b[39;00m missing_names \u001b[39mand\u001b[39;00m \u001b[39mnot\u001b[39;00m unexpected_names:\n\u001b[0;32m    458\u001b[0m     message \u001b[39m+\u001b[39m\u001b[39m=\u001b[39m (\n\u001b[0;32m    459\u001b[0m         \u001b[39m\"\u001b[39m\u001b[39mFeature names must be in the same order as they were in fit.\u001b[39m\u001b[39m\\n\u001b[39;00m\u001b[39m\"\u001b[39m\n\u001b[0;32m    460\u001b[0m     )\n\u001b[1;32m--> 462\u001b[0m \u001b[39mraise\u001b[39;00m \u001b[39mValueError\u001b[39;00m(message)\n",
      "\u001b[1;31mValueError\u001b[0m: The feature names should match those that were passed during fit.\nFeature names unseen at fit time:\n- filename\n- label\n- length\n"
     ]
    }
   ],
   "source": [
    "X_test\n",
    "print(lr.predict(X_test))\n"
   ]
  },
  {
   "cell_type": "code",
   "execution_count": 85,
   "metadata": {},
   "outputs": [],
   "source": [
    "# Modifying the results function to return a confusion matrix for the test set\n",
    "def test_results(model, X, validation=False):\n",
    "    y_true = y_train\n",
    "    if validation:\n",
    "        X = X_test[X.columns]\n",
    "        y_true = y_test\n",
    "    y_prediction = model.predict(X)\n",
    "    confusion_matrix = skm.confusion_matrix(y_true, y_prediction)\n",
    "    cm_display = skm.ConfusionMatrixDisplay(confusion_matrix = confusion_matrix)\n",
    "    cm_display.plot()\n",
    "    plt.show()\n",
    "    print(skm.classification_report(y_true, y_prediction, digits=3))\n",
    "    print(skm.precision_recall_fscore_support(y_true, y_prediction, average=\"macro\"))\n",
    "    print(\"=====================================================\")"
   ]
  },
  {
   "cell_type": "code",
   "execution_count": 86,
   "metadata": {},
   "outputs": [],
   "source": [
    "def test_model(model, X_test, y_test):\n",
    "    y_pred = model.predict(X_test)\n",
    "    acc = skm.accuracy_score(y_test, y_pred)\n",
    "    prec = skm.precision_score(y_test, y_pred, average='weighted')\n",
    "    rec = skm.recall_score(y_test, y_pred, average='weighted')\n",
    "    f1 = skm.f1_score(y_test, y_pred, average='weighted')\n",
    "    print(\"Accuracy: {:.3f}\".format(acc))\n",
    "    print(\"Precision: {:.3f}\".format(prec))\n",
    "    print(\"Recall: {:.3f}\".format(rec))\n",
    "    print(\"F1-score: {:.3f}\".format(f1))\n",
    "    return acc, prec, rec, f1"
   ]
  },
  {
   "cell_type": "code",
   "execution_count": 87,
   "metadata": {},
   "outputs": [
    {
     "name": "stdout",
     "output_type": "stream",
     "text": [
      "Accuracy: 0.706\n",
      "Precision: 0.725\n",
      "Recall: 0.706\n",
      "F1-score: 0.709\n"
     ]
    },
    {
     "data": {
      "text/plain": [
       "(0.7058823529411765,\n",
       " 0.7254901960784313,\n",
       " 0.7058823529411765,\n",
       " 0.7094136857294752)"
      ]
     },
     "execution_count": 87,
     "metadata": {},
     "output_type": "execute_result"
    }
   ],
   "source": [
    "test_model(lr, X_test, y_test)"
   ]
  },
  {
   "attachments": {},
   "cell_type": "markdown",
   "metadata": {},
   "source": [
    "######################################################################\n",
    "\n",
    "    TRYING TO IMPROVE THE MODEL BY OPTIMISING HYPERPAREMETERS\n",
    "\n",
    "######################################################################"
   ]
  },
  {
   "cell_type": "code",
   "execution_count": 88,
   "metadata": {},
   "outputs": [
    {
     "name": "stderr",
     "output_type": "stream",
     "text": [
      "C:\\Users\\louis\\AppData\\Local\\Packages\\PythonSoftwareFoundation.Python.3.10_qbz5n2kfra8p0\\LocalCache\\local-packages\\Python310\\site-packages\\sklearn\\linear_model\\_logistic.py:458: ConvergenceWarning: lbfgs failed to converge (status=1):\n",
      "STOP: TOTAL NO. of ITERATIONS REACHED LIMIT.\n",
      "\n",
      "Increase the number of iterations (max_iter) or scale the data as shown in:\n",
      "    https://scikit-learn.org/stable/modules/preprocessing.html\n",
      "Please also refer to the documentation for alternative solver options:\n",
      "    https://scikit-learn.org/stable/modules/linear_model.html#logistic-regression\n",
      "  n_iter_i = _check_optimize_result(\n",
      "C:\\Users\\louis\\AppData\\Local\\Packages\\PythonSoftwareFoundation.Python.3.10_qbz5n2kfra8p0\\LocalCache\\local-packages\\Python310\\site-packages\\sklearn\\linear_model\\_logistic.py:458: ConvergenceWarning: lbfgs failed to converge (status=1):\n",
      "STOP: TOTAL NO. of ITERATIONS REACHED LIMIT.\n",
      "\n",
      "Increase the number of iterations (max_iter) or scale the data as shown in:\n",
      "    https://scikit-learn.org/stable/modules/preprocessing.html\n",
      "Please also refer to the documentation for alternative solver options:\n",
      "    https://scikit-learn.org/stable/modules/linear_model.html#logistic-regression\n",
      "  n_iter_i = _check_optimize_result(\n",
      "C:\\Users\\louis\\AppData\\Local\\Packages\\PythonSoftwareFoundation.Python.3.10_qbz5n2kfra8p0\\LocalCache\\local-packages\\Python310\\site-packages\\sklearn\\linear_model\\_logistic.py:458: ConvergenceWarning: lbfgs failed to converge (status=1):\n",
      "STOP: TOTAL NO. of ITERATIONS REACHED LIMIT.\n",
      "\n",
      "Increase the number of iterations (max_iter) or scale the data as shown in:\n",
      "    https://scikit-learn.org/stable/modules/preprocessing.html\n",
      "Please also refer to the documentation for alternative solver options:\n",
      "    https://scikit-learn.org/stable/modules/linear_model.html#logistic-regression\n",
      "  n_iter_i = _check_optimize_result(\n",
      "C:\\Users\\louis\\AppData\\Local\\Packages\\PythonSoftwareFoundation.Python.3.10_qbz5n2kfra8p0\\LocalCache\\local-packages\\Python310\\site-packages\\sklearn\\linear_model\\_logistic.py:458: ConvergenceWarning: lbfgs failed to converge (status=1):\n",
      "STOP: TOTAL NO. of ITERATIONS REACHED LIMIT.\n",
      "\n",
      "Increase the number of iterations (max_iter) or scale the data as shown in:\n",
      "    https://scikit-learn.org/stable/modules/preprocessing.html\n",
      "Please also refer to the documentation for alternative solver options:\n",
      "    https://scikit-learn.org/stable/modules/linear_model.html#logistic-regression\n",
      "  n_iter_i = _check_optimize_result(\n"
     ]
    },
    {
     "name": "stdout",
     "output_type": "stream",
     "text": [
      "Accuracy: 0.706\n",
      "Precision: 0.719\n",
      "Recall: 0.706\n",
      "F1-score: 0.707\n"
     ]
    },
    {
     "name": "stderr",
     "output_type": "stream",
     "text": [
      "C:\\Users\\louis\\AppData\\Local\\Packages\\PythonSoftwareFoundation.Python.3.10_qbz5n2kfra8p0\\LocalCache\\local-packages\\Python310\\site-packages\\sklearn\\linear_model\\_logistic.py:458: ConvergenceWarning: lbfgs failed to converge (status=1):\n",
      "STOP: TOTAL NO. of ITERATIONS REACHED LIMIT.\n",
      "\n",
      "Increase the number of iterations (max_iter) or scale the data as shown in:\n",
      "    https://scikit-learn.org/stable/modules/preprocessing.html\n",
      "Please also refer to the documentation for alternative solver options:\n",
      "    https://scikit-learn.org/stable/modules/linear_model.html#logistic-regression\n",
      "  n_iter_i = _check_optimize_result(\n",
      "C:\\Users\\louis\\AppData\\Local\\Packages\\PythonSoftwareFoundation.Python.3.10_qbz5n2kfra8p0\\LocalCache\\local-packages\\Python310\\site-packages\\sklearn\\model_selection\\_validation.py:378: FitFailedWarning: \n",
      "25 fits failed out of a total of 50.\n",
      "The score on these train-test partitions for these parameters will be set to nan.\n",
      "If these failures are not expected, you can try to debug them by setting error_score='raise'.\n",
      "\n",
      "Below are more details about the failures:\n",
      "--------------------------------------------------------------------------------\n",
      "25 fits failed with the following error:\n",
      "Traceback (most recent call last):\n",
      "  File \"C:\\Users\\louis\\AppData\\Local\\Packages\\PythonSoftwareFoundation.Python.3.10_qbz5n2kfra8p0\\LocalCache\\local-packages\\Python310\\site-packages\\sklearn\\model_selection\\_validation.py\", line 686, in _fit_and_score\n",
      "    estimator.fit(X_train, y_train, **fit_params)\n",
      "  File \"C:\\Users\\louis\\AppData\\Local\\Packages\\PythonSoftwareFoundation.Python.3.10_qbz5n2kfra8p0\\LocalCache\\local-packages\\Python310\\site-packages\\sklearn\\linear_model\\_logistic.py\", line 1162, in fit\n",
      "    solver = _check_solver(self.solver, self.penalty, self.dual)\n",
      "  File \"C:\\Users\\louis\\AppData\\Local\\Packages\\PythonSoftwareFoundation.Python.3.10_qbz5n2kfra8p0\\LocalCache\\local-packages\\Python310\\site-packages\\sklearn\\linear_model\\_logistic.py\", line 54, in _check_solver\n",
      "    raise ValueError(\n",
      "ValueError: Solver lbfgs supports only 'l2' or 'none' penalties, got l1 penalty.\n",
      "\n",
      "  warnings.warn(some_fits_failed_message, FitFailedWarning)\n",
      "C:\\Users\\louis\\AppData\\Local\\Packages\\PythonSoftwareFoundation.Python.3.10_qbz5n2kfra8p0\\LocalCache\\local-packages\\Python310\\site-packages\\sklearn\\model_selection\\_search.py:952: UserWarning: One or more of the test scores are non-finite: [       nan 0.60142857        nan 0.69142857        nan 0.68857143\n",
      "        nan 0.65857143        nan 0.63571429]\n",
      "  warnings.warn(\n"
     ]
    },
    {
     "data": {
      "text/plain": [
       "(0.7058823529411765,\n",
       " 0.7193406811053871,\n",
       " 0.7058823529411765,\n",
       " 0.7069890644249477)"
      ]
     },
     "execution_count": 88,
     "metadata": {},
     "output_type": "execute_result"
    }
   ],
   "source": [
    "# GridSearchCV (Not really effective)\n",
    "\n",
    "from sklearn.model_selection import GridSearchCV\n",
    "\n",
    "# Créer une grille de paramètres à tester\n",
    "param_grid = {'C': [0.01, 0.1, 1, 10, 100], 'penalty': ['l1', 'l2']}\n",
    "\n",
    "# Utiliser la validation croisée pour tester les différents paramètres\n",
    "grid_search = GridSearchCV(LogisticRegression(max_iter=400), param_grid, cv=5)\n",
    "grid_search.fit(X_train, y_train)\n",
    "\n",
    "# Obtenir le meilleur modèle et ses paramètres\n",
    "best_model = grid_search.best_estimator_\n",
    "best_params = grid_search.best_params_\n",
    "\n",
    "# Tester le modèle sur les données de test\n",
    "test_model(best_model, X_test, y_test)"
   ]
  },
  {
   "cell_type": "code",
   "execution_count": 89,
   "metadata": {},
   "outputs": [
    {
     "name": "stdout",
     "output_type": "stream",
     "text": [
      "Fitting 5 folds for each of 108 candidates, totalling 540 fits\n",
      "Best parameters:  {'max_depth': 20, 'min_samples_leaf': 1, 'min_samples_split': 2, 'n_estimators': 200}\n",
      "Best score:  0.71\n",
      "Accuracy: 0.667\n",
      "Precision: 0.669\n",
      "Recall: 0.667\n",
      "F1-score: 0.663\n"
     ]
    },
    {
     "data": {
      "text/plain": [
       "(0.6666666666666666,\n",
       " 0.6692315309962369,\n",
       " 0.6666666666666666,\n",
       " 0.6633780306380926)"
      ]
     },
     "execution_count": 89,
     "metadata": {},
     "output_type": "execute_result"
    }
   ],
   "source": [
    "# RandomForestClassifier (Not really effective)\n",
    "\n",
    "from sklearn.ensemble import RandomForestClassifier\n",
    "\n",
    "# Hyperparameters to tune\n",
    "param_grid = {\n",
    "    'n_estimators': [100, 200, 300],\n",
    "    'max_depth': [5, 10, 15, 20],\n",
    "    'min_samples_split': [2, 5, 10],\n",
    "    'min_samples_leaf': [1, 2, 4],\n",
    "}\n",
    "\n",
    "# Create a random forest classifier object\n",
    "rfc = RandomForestClassifier()\n",
    "\n",
    "# Grid search object using the random forest classifier and the hyperparameters to tune\n",
    "grid_search = GridSearchCV(estimator = rfc, param_grid = param_grid, \n",
    "                          cv = 5, n_jobs = -1, verbose = 2)\n",
    "\n",
    "# Fit the grid search to the data\n",
    "grid_search.fit(X_train, y_train)\n",
    "\n",
    "# Print the best parameters and score\n",
    "print(\"Best parameters: \", grid_search.best_params_)\n",
    "print(\"Best score: \", grid_search.best_score_)\n",
    "\n",
    "# Get the best model\n",
    "rfc = grid_search.best_estimator_\n",
    "\n",
    "# Test the model\n",
    "test_model(rfc, X_test, y_test)"
   ]
  }
 ],
 "metadata": {
  "kernelspec": {
   "display_name": "Python 3",
   "language": "python",
   "name": "python3"
  },
  "language_info": {
   "codemirror_mode": {
    "name": "ipython",
    "version": 3
   },
   "file_extension": ".py",
   "mimetype": "text/x-python",
   "name": "python",
   "nbconvert_exporter": "python",
   "pygments_lexer": "ipython3",
   "version": "3.10.5"
  },
  "orig_nbformat": 4,
  "vscode": {
   "interpreter": {
    "hash": "1b99ff67b40dbeb3d3f51b38f7b4ea8cde4c2bee889619c7ad0240fb7e21d076"
   }
  }
 },
 "nbformat": 4,
 "nbformat_minor": 2
}
